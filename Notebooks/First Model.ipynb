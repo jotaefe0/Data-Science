{
 "cells": [
  {
   "cell_type": "code",
   "execution_count": 93,
   "metadata": {},
   "outputs": [],
   "source": [
    "import pandas as pd\n",
    "import math\n",
    "import psycopg2 as ps\n",
    "import numpy as np\n",
    "import seaborn as sns\n",
    "import matplotlib.pylab as plt \n",
    "from sklearn.ensemble import RandomForestRegressor\n",
    "from sklearn.metrics import mean_absolute_error\n",
    "from sklearn.model_selection import train_test_split\n",
    "from sklearn.preprocessing import OneHotEncoder\n",
    "from xgboost import XGBRegressor"
   ]
  },
  {
   "cell_type": "code",
   "execution_count": 157,
   "metadata": {},
   "outputs": [],
   "source": [
    "cars_data = pd.read_csv('carsdata_preprocessed.csv')"
   ]
  },
  {
   "cell_type": "code",
   "execution_count": 158,
   "metadata": {},
   "outputs": [
    {
     "data": {
      "text/plain": [
       "(34007, 20)"
      ]
     },
     "execution_count": 158,
     "metadata": {},
     "output_type": "execute_result"
    }
   ],
   "source": [
    "cars_data.shape"
   ]
  },
  {
   "cell_type": "code",
   "execution_count": 159,
   "metadata": {},
   "outputs": [
    {
     "data": {
      "text/html": [
       "<div>\n",
       "<style scoped>\n",
       "    .dataframe tbody tr th:only-of-type {\n",
       "        vertical-align: middle;\n",
       "    }\n",
       "\n",
       "    .dataframe tbody tr th {\n",
       "        vertical-align: top;\n",
       "    }\n",
       "\n",
       "    .dataframe thead th {\n",
       "        text-align: right;\n",
       "    }\n",
       "</style>\n",
       "<table border=\"1\" class=\"dataframe\">\n",
       "  <thead>\n",
       "    <tr style=\"text-align: right;\">\n",
       "      <th></th>\n",
       "      <th>Unnamed: 0</th>\n",
       "      <th>id</th>\n",
       "      <th>brand</th>\n",
       "      <th>model</th>\n",
       "      <th>colour</th>\n",
       "      <th>fuel</th>\n",
       "      <th>doors</th>\n",
       "      <th>engine</th>\n",
       "      <th>location</th>\n",
       "      <th>price</th>\n",
       "      <th>year</th>\n",
       "      <th>transmision</th>\n",
       "      <th>km</th>\n",
       "      <th>type</th>\n",
       "      <th>url</th>\n",
       "      <th>currency</th>\n",
       "      <th>price_ars</th>\n",
       "      <th>neighborhood</th>\n",
       "      <th>city</th>\n",
       "      <th>province</th>\n",
       "    </tr>\n",
       "  </thead>\n",
       "  <tbody>\n",
       "    <tr>\n",
       "      <th>2637</th>\n",
       "      <td>2782</td>\n",
       "      <td>2782</td>\n",
       "      <td>BMW</td>\n",
       "      <td>X6</td>\n",
       "      <td>NaN</td>\n",
       "      <td>Nafta</td>\n",
       "      <td>4</td>\n",
       "      <td>NaN</td>\n",
       "      <td>Tigre - Bs.As. G.B.A. Norte</td>\n",
       "      <td>155000</td>\n",
       "      <td>2018</td>\n",
       "      <td>NaN</td>\n",
       "      <td>38000</td>\n",
       "      <td>NaN</td>\n",
       "      <td>https://auto.mercadolibre.com.ar/MLA-113385607...</td>\n",
       "      <td>USD</td>\n",
       "      <td>155000</td>\n",
       "      <td>Tigre</td>\n",
       "      <td>Bs.As. G.B.A. Norte</td>\n",
       "      <td>Bs.As. G.B.A. Norte</td>\n",
       "    </tr>\n",
       "    <tr>\n",
       "      <th>25644</th>\n",
       "      <td>26519</td>\n",
       "      <td>26519</td>\n",
       "      <td>Mercedes Benz</td>\n",
       "      <td>Clase C</td>\n",
       "      <td>Blanco</td>\n",
       "      <td>Nafta</td>\n",
       "      <td>4</td>\n",
       "      <td>3.0</td>\n",
       "      <td>Nordelta Bahia Grande - Tigre - Bs.As. G.B.A. ...</td>\n",
       "      <td>155000</td>\n",
       "      <td>2021</td>\n",
       "      <td>Automatica</td>\n",
       "      <td>2000</td>\n",
       "      <td>Sedan</td>\n",
       "      <td>https://auto.mercadolibre.com.ar/MLA-113668318...</td>\n",
       "      <td>USD</td>\n",
       "      <td>155000</td>\n",
       "      <td>Nordelta Bahia Grande</td>\n",
       "      <td>Tigre</td>\n",
       "      <td>Bs.As. G.B.A. Norte</td>\n",
       "    </tr>\n",
       "    <tr>\n",
       "      <th>24888</th>\n",
       "      <td>25672</td>\n",
       "      <td>25672</td>\n",
       "      <td>Land Rover</td>\n",
       "      <td>Range Rover Velar</td>\n",
       "      <td>Gris</td>\n",
       "      <td>Nafta</td>\n",
       "      <td>5</td>\n",
       "      <td>V6 3.0 380HP</td>\n",
       "      <td>Belgrano - Capital Federal - Capital Federal</td>\n",
       "      <td>155000</td>\n",
       "      <td>2018</td>\n",
       "      <td>Automatica</td>\n",
       "      <td>9500</td>\n",
       "      <td>SUV</td>\n",
       "      <td>https://auto.mercadolibre.com.ar/MLA-112980493...</td>\n",
       "      <td>USD</td>\n",
       "      <td>155000</td>\n",
       "      <td>Belgrano</td>\n",
       "      <td>Capital Federal</td>\n",
       "      <td>Capital Federal</td>\n",
       "    </tr>\n",
       "    <tr>\n",
       "      <th>10604</th>\n",
       "      <td>11005</td>\n",
       "      <td>11005</td>\n",
       "      <td>Land Rover</td>\n",
       "      <td>VELAR</td>\n",
       "      <td>Plateado</td>\n",
       "      <td>Nafta</td>\n",
       "      <td>5</td>\n",
       "      <td>V6 3.0 380HP</td>\n",
       "      <td>Vicente Lopez - Vicente Lopez - Bs.As. G.B.A. ...</td>\n",
       "      <td>157000</td>\n",
       "      <td>2018</td>\n",
       "      <td>Automatica</td>\n",
       "      <td>8900</td>\n",
       "      <td>SUV</td>\n",
       "      <td>https://auto.mercadolibre.com.ar/MLA-112429370...</td>\n",
       "      <td>USD</td>\n",
       "      <td>157000</td>\n",
       "      <td>Vicente Lopez</td>\n",
       "      <td>Vicente Lopez</td>\n",
       "      <td>Bs.As. G.B.A. Norte</td>\n",
       "    </tr>\n",
       "    <tr>\n",
       "      <th>270</th>\n",
       "      <td>280</td>\n",
       "      <td>280</td>\n",
       "      <td>Audi</td>\n",
       "      <td>Q7</td>\n",
       "      <td>Blanco</td>\n",
       "      <td>Nafta</td>\n",
       "      <td>5</td>\n",
       "      <td>3.0</td>\n",
       "      <td>Capital Federal - Capital Federal</td>\n",
       "      <td>158000</td>\n",
       "      <td>2020</td>\n",
       "      <td>Automatica</td>\n",
       "      <td>3000</td>\n",
       "      <td>SUV</td>\n",
       "      <td>https://auto.mercadolibre.com.ar/MLA-113171437...</td>\n",
       "      <td>USD</td>\n",
       "      <td>158000</td>\n",
       "      <td>Capital Federal</td>\n",
       "      <td>Capital Federal</td>\n",
       "      <td>Capital Federal</td>\n",
       "    </tr>\n",
       "    <tr>\n",
       "      <th>...</th>\n",
       "      <td>...</td>\n",
       "      <td>...</td>\n",
       "      <td>...</td>\n",
       "      <td>...</td>\n",
       "      <td>...</td>\n",
       "      <td>...</td>\n",
       "      <td>...</td>\n",
       "      <td>...</td>\n",
       "      <td>...</td>\n",
       "      <td>...</td>\n",
       "      <td>...</td>\n",
       "      <td>...</td>\n",
       "      <td>...</td>\n",
       "      <td>...</td>\n",
       "      <td>...</td>\n",
       "      <td>...</td>\n",
       "      <td>...</td>\n",
       "      <td>...</td>\n",
       "      <td>...</td>\n",
       "      <td>...</td>\n",
       "    </tr>\n",
       "    <tr>\n",
       "      <th>2256</th>\n",
       "      <td>2364</td>\n",
       "      <td>2364</td>\n",
       "      <td>BMW</td>\n",
       "      <td>X4</td>\n",
       "      <td>Negro</td>\n",
       "      <td>Nafta</td>\n",
       "      <td>5</td>\n",
       "      <td>2.0</td>\n",
       "      <td>Cordoba - Cordoba</td>\n",
       "      <td>75000</td>\n",
       "      <td>2019</td>\n",
       "      <td>Automatica</td>\n",
       "      <td>50000</td>\n",
       "      <td>SUV</td>\n",
       "      <td>https://auto.mercadolibre.com.ar/MLA-113109897...</td>\n",
       "      <td>USD</td>\n",
       "      <td>15000000</td>\n",
       "      <td>Cordoba</td>\n",
       "      <td>Cordoba</td>\n",
       "      <td>Cordoba</td>\n",
       "    </tr>\n",
       "    <tr>\n",
       "      <th>687</th>\n",
       "      <td>717</td>\n",
       "      <td>717</td>\n",
       "      <td>BMW</td>\n",
       "      <td>Serie 3</td>\n",
       "      <td>Gris</td>\n",
       "      <td>Nafta</td>\n",
       "      <td>5</td>\n",
       "      <td>258 cv - Linea nueva Full</td>\n",
       "      <td>La Plata - La Plata - Bs.As. G.B.A. Sur</td>\n",
       "      <td>75000</td>\n",
       "      <td>2021</td>\n",
       "      <td>Automatica secuencial</td>\n",
       "      <td>7900</td>\n",
       "      <td>Sedan</td>\n",
       "      <td>https://auto.mercadolibre.com.ar/MLA-113063716...</td>\n",
       "      <td>USD</td>\n",
       "      <td>15000000</td>\n",
       "      <td>La Plata</td>\n",
       "      <td>La Plata</td>\n",
       "      <td>Bs.As. G.B.A. Sur</td>\n",
       "    </tr>\n",
       "    <tr>\n",
       "      <th>9801</th>\n",
       "      <td>10151</td>\n",
       "      <td>10151</td>\n",
       "      <td>Jeep</td>\n",
       "      <td>Grand Cherokee</td>\n",
       "      <td>Gris</td>\n",
       "      <td>Nafta</td>\n",
       "      <td>5</td>\n",
       "      <td>3.6</td>\n",
       "      <td>Pilar - Pilar - Bs.As. G.B.A. Norte</td>\n",
       "      <td>75000</td>\n",
       "      <td>2018</td>\n",
       "      <td>Automatica</td>\n",
       "      <td>70000</td>\n",
       "      <td>SUV</td>\n",
       "      <td>https://auto.mercadolibre.com.ar/MLA-113636141...</td>\n",
       "      <td>USD</td>\n",
       "      <td>15000000</td>\n",
       "      <td>Pilar</td>\n",
       "      <td>Pilar</td>\n",
       "      <td>Bs.As. G.B.A. Norte</td>\n",
       "    </tr>\n",
       "    <tr>\n",
       "      <th>18257</th>\n",
       "      <td>18829</td>\n",
       "      <td>18829</td>\n",
       "      <td>Dodge</td>\n",
       "      <td>Challenger SRT8</td>\n",
       "      <td>Rojo</td>\n",
       "      <td>Nafta</td>\n",
       "      <td>2</td>\n",
       "      <td>6.2</td>\n",
       "      <td>Capital Federal - Capital Federal</td>\n",
       "      <td>75000</td>\n",
       "      <td>2012</td>\n",
       "      <td>Automatica</td>\n",
       "      <td>50000</td>\n",
       "      <td>Coupe</td>\n",
       "      <td>https://auto.mercadolibre.com.ar/MLA-113131624...</td>\n",
       "      <td>USD</td>\n",
       "      <td>15000000</td>\n",
       "      <td>Capital Federal</td>\n",
       "      <td>Capital Federal</td>\n",
       "      <td>Capital Federal</td>\n",
       "    </tr>\n",
       "    <tr>\n",
       "      <th>32156</th>\n",
       "      <td>33200</td>\n",
       "      <td>33200</td>\n",
       "      <td>Toyota</td>\n",
       "      <td>SW4</td>\n",
       "      <td>Gris</td>\n",
       "      <td>Diesel</td>\n",
       "      <td>5</td>\n",
       "      <td>2.8 TDI 204 CV</td>\n",
       "      <td>Valle Escondido - Cordoba - Cordoba</td>\n",
       "      <td>75000</td>\n",
       "      <td>2022</td>\n",
       "      <td>Automatica secuencial</td>\n",
       "      <td>3700</td>\n",
       "      <td>SUV</td>\n",
       "      <td>https://auto.mercadolibre.com.ar/MLA-113601297...</td>\n",
       "      <td>USD</td>\n",
       "      <td>15000000</td>\n",
       "      <td>Valle Escondido</td>\n",
       "      <td>Cordoba</td>\n",
       "      <td>Cordoba</td>\n",
       "    </tr>\n",
       "  </tbody>\n",
       "</table>\n",
       "<p>34007 rows × 20 columns</p>\n",
       "</div>"
      ],
      "text/plain": [
       "       Unnamed: 0     id          brand              model    colour    fuel  \\\n",
       "2637         2782   2782            BMW                 X6       NaN   Nafta   \n",
       "25644       26519  26519  Mercedes Benz            Clase C    Blanco   Nafta   \n",
       "24888       25672  25672     Land Rover  Range Rover Velar      Gris   Nafta   \n",
       "10604       11005  11005     Land Rover              VELAR  Plateado   Nafta   \n",
       "270           280    280           Audi                 Q7    Blanco   Nafta   \n",
       "...           ...    ...            ...                ...       ...     ...   \n",
       "2256         2364   2364            BMW                 X4     Negro   Nafta   \n",
       "687           717    717            BMW            Serie 3      Gris   Nafta   \n",
       "9801        10151  10151           Jeep     Grand Cherokee      Gris   Nafta   \n",
       "18257       18829  18829          Dodge    Challenger SRT8      Rojo   Nafta   \n",
       "32156       33200  33200         Toyota                SW4      Gris  Diesel   \n",
       "\n",
       "       doors                     engine  \\\n",
       "2637       4                        NaN   \n",
       "25644      4                        3.0   \n",
       "24888      5               V6 3.0 380HP   \n",
       "10604      5               V6 3.0 380HP   \n",
       "270        5                        3.0   \n",
       "...      ...                        ...   \n",
       "2256       5                        2.0   \n",
       "687        5  258 cv - Linea nueva Full   \n",
       "9801       5                        3.6   \n",
       "18257      2                        6.2   \n",
       "32156      5             2.8 TDI 204 CV   \n",
       "\n",
       "                                                location   price  year  \\\n",
       "2637                         Tigre - Bs.As. G.B.A. Norte  155000  2018   \n",
       "25644  Nordelta Bahia Grande - Tigre - Bs.As. G.B.A. ...  155000  2021   \n",
       "24888       Belgrano - Capital Federal - Capital Federal  155000  2018   \n",
       "10604  Vicente Lopez - Vicente Lopez - Bs.As. G.B.A. ...  157000  2018   \n",
       "270                    Capital Federal - Capital Federal  158000  2020   \n",
       "...                                                  ...     ...   ...   \n",
       "2256                                   Cordoba - Cordoba   75000  2019   \n",
       "687              La Plata - La Plata - Bs.As. G.B.A. Sur   75000  2021   \n",
       "9801                 Pilar - Pilar - Bs.As. G.B.A. Norte   75000  2018   \n",
       "18257                  Capital Federal - Capital Federal   75000  2012   \n",
       "32156                Valle Escondido - Cordoba - Cordoba   75000  2022   \n",
       "\n",
       "                 transmision     km   type  \\\n",
       "2637                     NaN  38000    NaN   \n",
       "25644             Automatica   2000  Sedan   \n",
       "24888             Automatica   9500    SUV   \n",
       "10604             Automatica   8900    SUV   \n",
       "270               Automatica   3000    SUV   \n",
       "...                      ...    ...    ...   \n",
       "2256              Automatica  50000    SUV   \n",
       "687    Automatica secuencial   7900  Sedan   \n",
       "9801              Automatica  70000    SUV   \n",
       "18257             Automatica  50000  Coupe   \n",
       "32156  Automatica secuencial   3700    SUV   \n",
       "\n",
       "                                                     url currency  price_ars  \\\n",
       "2637   https://auto.mercadolibre.com.ar/MLA-113385607...      USD     155000   \n",
       "25644  https://auto.mercadolibre.com.ar/MLA-113668318...      USD     155000   \n",
       "24888  https://auto.mercadolibre.com.ar/MLA-112980493...      USD     155000   \n",
       "10604  https://auto.mercadolibre.com.ar/MLA-112429370...      USD     157000   \n",
       "270    https://auto.mercadolibre.com.ar/MLA-113171437...      USD     158000   \n",
       "...                                                  ...      ...        ...   \n",
       "2256   https://auto.mercadolibre.com.ar/MLA-113109897...      USD   15000000   \n",
       "687    https://auto.mercadolibre.com.ar/MLA-113063716...      USD   15000000   \n",
       "9801   https://auto.mercadolibre.com.ar/MLA-113636141...      USD   15000000   \n",
       "18257  https://auto.mercadolibre.com.ar/MLA-113131624...      USD   15000000   \n",
       "32156  https://auto.mercadolibre.com.ar/MLA-113601297...      USD   15000000   \n",
       "\n",
       "                 neighborhood                  city              province  \n",
       "2637                   Tigre    Bs.As. G.B.A. Norte   Bs.As. G.B.A. Norte  \n",
       "25644  Nordelta Bahia Grande                 Tigre    Bs.As. G.B.A. Norte  \n",
       "24888               Belgrano       Capital Federal        Capital Federal  \n",
       "10604          Vicente Lopez         Vicente Lopez    Bs.As. G.B.A. Norte  \n",
       "270          Capital Federal        Capital Federal       Capital Federal  \n",
       "...                       ...                   ...                   ...  \n",
       "2256                 Cordoba                Cordoba               Cordoba  \n",
       "687                 La Plata              La Plata      Bs.As. G.B.A. Sur  \n",
       "9801                   Pilar                 Pilar    Bs.As. G.B.A. Norte  \n",
       "18257        Capital Federal        Capital Federal       Capital Federal  \n",
       "32156        Valle Escondido               Cordoba                Cordoba  \n",
       "\n",
       "[34007 rows x 20 columns]"
      ]
     },
     "execution_count": 159,
     "metadata": {},
     "output_type": "execute_result"
    }
   ],
   "source": [
    "cars_data.sort_values('price_ars')"
   ]
  },
  {
   "cell_type": "code",
   "execution_count": 160,
   "metadata": {},
   "outputs": [
    {
     "data": {
      "text/plain": [
       "Index(['Unnamed: 0', 'id', 'brand', 'model', 'colour', 'fuel', 'doors',\n",
       "       'engine', 'location', 'price', 'year', 'transmision', 'km', 'type',\n",
       "       'url', 'currency', 'price_ars', 'neighborhood', 'city', 'province'],\n",
       "      dtype='object')"
      ]
     },
     "execution_count": 160,
     "metadata": {},
     "output_type": "execute_result"
    }
   ],
   "source": [
    "cars_data.columns"
   ]
  },
  {
   "cell_type": "code",
   "execution_count": 161,
   "metadata": {},
   "outputs": [],
   "source": [
    "features = ['brand', 'model', 'price_ars', 'colour', 'fuel',\n",
    "       'engine', 'year', 'transmision', 'km', 'type',\n",
    "           'city']"
   ]
  },
  {
   "cell_type": "code",
   "execution_count": 162,
   "metadata": {},
   "outputs": [],
   "source": [
    "X = cars_data[features].dropna()\n",
    "y = X.pop('price_ars') #we want to predict price (in ARS)"
   ]
  },
  {
   "cell_type": "code",
   "execution_count": 163,
   "metadata": {},
   "outputs": [
    {
     "data": {
      "text/html": [
       "<div>\n",
       "<style scoped>\n",
       "    .dataframe tbody tr th:only-of-type {\n",
       "        vertical-align: middle;\n",
       "    }\n",
       "\n",
       "    .dataframe tbody tr th {\n",
       "        vertical-align: top;\n",
       "    }\n",
       "\n",
       "    .dataframe thead th {\n",
       "        text-align: right;\n",
       "    }\n",
       "</style>\n",
       "<table border=\"1\" class=\"dataframe\">\n",
       "  <thead>\n",
       "    <tr style=\"text-align: right;\">\n",
       "      <th></th>\n",
       "      <th>year</th>\n",
       "      <th>km</th>\n",
       "    </tr>\n",
       "  </thead>\n",
       "  <tbody>\n",
       "    <tr>\n",
       "      <th>count</th>\n",
       "      <td>18402.000000</td>\n",
       "      <td>18402.000000</td>\n",
       "    </tr>\n",
       "    <tr>\n",
       "      <th>mean</th>\n",
       "      <td>2014.867406</td>\n",
       "      <td>86620.470384</td>\n",
       "    </tr>\n",
       "    <tr>\n",
       "      <th>std</th>\n",
       "      <td>4.928291</td>\n",
       "      <td>62498.531334</td>\n",
       "    </tr>\n",
       "    <tr>\n",
       "      <th>min</th>\n",
       "      <td>1991.000000</td>\n",
       "      <td>1.000000</td>\n",
       "    </tr>\n",
       "    <tr>\n",
       "      <th>25%</th>\n",
       "      <td>2013.000000</td>\n",
       "      <td>43303.500000</td>\n",
       "    </tr>\n",
       "    <tr>\n",
       "      <th>50%</th>\n",
       "      <td>2016.000000</td>\n",
       "      <td>78000.000000</td>\n",
       "    </tr>\n",
       "    <tr>\n",
       "      <th>75%</th>\n",
       "      <td>2018.000000</td>\n",
       "      <td>118623.750000</td>\n",
       "    </tr>\n",
       "    <tr>\n",
       "      <th>max</th>\n",
       "      <td>2023.000000</td>\n",
       "      <td>604000.000000</td>\n",
       "    </tr>\n",
       "  </tbody>\n",
       "</table>\n",
       "</div>"
      ],
      "text/plain": [
       "               year             km\n",
       "count  18402.000000   18402.000000\n",
       "mean    2014.867406   86620.470384\n",
       "std        4.928291   62498.531334\n",
       "min     1991.000000       1.000000\n",
       "25%     2013.000000   43303.500000\n",
       "50%     2016.000000   78000.000000\n",
       "75%     2018.000000  118623.750000\n",
       "max     2023.000000  604000.000000"
      ]
     },
     "execution_count": 163,
     "metadata": {},
     "output_type": "execute_result"
    }
   ],
   "source": [
    "X.describe() #not all the features are numeric (later we will check if a encoding is usefull)"
   ]
  },
  {
   "cell_type": "code",
   "execution_count": 164,
   "metadata": {
    "scrolled": true
   },
   "outputs": [],
   "source": [
    "X_train, X_valid, y_train, y_valid = train_test_split(X, y, random_state = 0)\n"
   ]
  },
  {
   "cell_type": "code",
   "execution_count": 165,
   "metadata": {},
   "outputs": [
    {
     "name": "stdout",
     "output_type": "stream",
     "text": [
      "Categorical variables:\n",
      "['brand', 'model', 'colour', 'fuel', 'engine', 'transmision', 'type', 'city']\n"
     ]
    }
   ],
   "source": [
    "# Get list of categorical variables\n",
    "s = (X_train.dtypes == 'object')\n",
    "object_cols = list(s[s].index)\n",
    "\n",
    "print(\"Categorical variables:\")\n",
    "print(object_cols)"
   ]
  },
  {
   "cell_type": "code",
   "execution_count": 166,
   "metadata": {
    "scrolled": false
   },
   "outputs": [
    {
     "data": {
      "text/plain": [
       "brand              0\n",
       "model              0\n",
       "colour         14710\n",
       "fuel               0\n",
       "engine          2228\n",
       "transmision     1966\n",
       "type            2155\n",
       "city               0\n",
       "dtype: int64"
      ]
     },
     "execution_count": 166,
     "metadata": {},
     "output_type": "execute_result"
    }
   ],
   "source": [
    "cars_data[object_cols]\n",
    "missing_values_count = cars_data[object_cols].isnull().sum()\n",
    "missing_values_count #we have many empty values, we need to clean before encoding"
   ]
  },
  {
   "cell_type": "markdown",
   "metadata": {},
   "source": [
    "We face  a hard decision here, since color is an important feature, but half of the data does not have this value. We can drop the column for the model and make 2 separate models, once with color and once without.\n",
    "\n",
    "## Note: The model works better if we use the color column and drop the rows that do not have that value. \n",
    "From 500K to 427K in MAE"
   ]
  },
  {
   "cell_type": "markdown",
   "metadata": {},
   "source": [
    "###### As there is no ordinal values in this data, we proceed with one hot encoding"
   ]
  },
  {
   "cell_type": "code",
   "execution_count": 167,
   "metadata": {},
   "outputs": [],
   "source": [
    "def encoder(X_train, X_valid):  \n",
    "    # Apply one-hot encoder to each column with categorical data\n",
    "    OH_encoder = OneHotEncoder(handle_unknown='ignore', sparse=False)\n",
    "    OH_cols_train = pd.DataFrame(OH_encoder.fit_transform(X_train[object_cols]))\n",
    "    OH_cols_valid = pd.DataFrame(OH_encoder.transform(X_valid[object_cols]))\n",
    "\n",
    "    # One-hot encoding removed index; put it back\n",
    "    OH_cols_train.index = X_train.index\n",
    "    OH_cols_valid.index = X_valid.index\n",
    "\n",
    "    # Remove categorical columns (will replace with one-hot encoding)\n",
    "    num_X_train = X_train.drop(object_cols, axis=1)\n",
    "    num_X_valid = X_valid.drop(object_cols, axis=1)\n",
    "\n",
    "    # Add one-hot encoded columns to numerical features\n",
    "    OH_X_train = pd.concat([num_X_train, OH_cols_train], axis=1)\n",
    "    OH_X_valid = pd.concat([num_X_valid, OH_cols_valid], axis=1)\n",
    "    return OH_X_train, OH_X_valid\n",
    "\n",
    "# print(\"MAE (One-Hot Encoding):\") \n",
    "# print(score_dataset(OH_X_train, OH_X_valid, y_train, y_valid))"
   ]
  },
  {
   "cell_type": "code",
   "execution_count": 168,
   "metadata": {},
   "outputs": [
    {
     "data": {
      "text/plain": [
       "RandomForestRegressor(random_state=1)"
      ]
     },
     "execution_count": 168,
     "metadata": {},
     "output_type": "execute_result"
    }
   ],
   "source": [
    "OH_X_train, OH_X_valid = encoder(X_train, X_valid)\n",
    "model = RandomForestRegressor(random_state=1)\n",
    "model.fit(OH_X_train, y_train)"
   ]
  },
  {
   "cell_type": "code",
   "execution_count": 169,
   "metadata": {},
   "outputs": [
    {
     "name": "stdout",
     "output_type": "stream",
     "text": [
      "Making predictions for the following 5 cars:\n",
      "    brand model    colour   fuel engine  year transmision     km       type  \\\n",
      "914  Audi    S3      Gris  Nafta    2.0  2016  Automatica  55000  Hatchback   \n",
      "915  Audi    A4      Gris  Nafta    2.0  2018  Automatica  44500      Sedan   \n",
      "916  Audi    Q3      Gris  Nafta    2.0  2014      Manual  66200        SUV   \n",
      "917  Audi    Q2      Gris  Nafta    1.0  2020  Automatica  11000        SUV   \n",
      "918  Audi    A4  Plateado  Nafta    2.0  2018  Automatica  44600      Sedan   \n",
      "\n",
      "                  city  \n",
      "914        Hurlingham   \n",
      "915   Capital Federal   \n",
      "916             Tigre   \n",
      "917   Capital Federal   \n",
      "918   Capital Federal   \n",
      "The predictions are\n",
      "[2994700.   1655700.   5478872.   2310649.66 2970389.98]\n",
      "429989.90161338093\n"
     ]
    }
   ],
   "source": [
    "print(\"Making predictions for the following 5 cars:\")\n",
    "print(X[500:505])\n",
    "print(\"The predictions are\")\n",
    "print(model.predict(OH_X_valid[500:505]))\n",
    "\n",
    "val_predictions = model.predict(OH_X_valid)\n",
    "print(mean_absolute_error(y_valid, val_predictions))"
   ]
  },
  {
   "cell_type": "markdown",
   "metadata": {},
   "source": [
    "429K ARS is a bad model. We can try to differentiate expensive and cheap cars, or normalize the price"
   ]
  },
  {
   "cell_type": "code",
   "execution_count": null,
   "metadata": {},
   "outputs": [],
   "source": []
  },
  {
   "cell_type": "code",
   "execution_count": 170,
   "metadata": {},
   "outputs": [
    {
     "data": {
      "text/plain": [
       "count    3.400700e+04\n",
       "mean     2.614607e+06\n",
       "std      2.270250e+06\n",
       "min      1.000000e+03\n",
       "25%      9.925000e+05\n",
       "50%      2.300000e+06\n",
       "75%      3.700000e+06\n",
       "max      1.500000e+07\n",
       "Name: price, dtype: float64"
      ]
     },
     "execution_count": 170,
     "metadata": {},
     "output_type": "execute_result"
    }
   ],
   "source": [
    "cars_data.price.describe()"
   ]
  },
  {
   "cell_type": "code",
   "execution_count": 171,
   "metadata": {},
   "outputs": [],
   "source": [
    "cars_data['brand_avg']=cars_data.groupby('brand')['price_ars'].transform('mean')"
   ]
  },
  {
   "cell_type": "code",
   "execution_count": 172,
   "metadata": {},
   "outputs": [
    {
     "data": {
      "text/html": [
       "<div>\n",
       "<style scoped>\n",
       "    .dataframe tbody tr th:only-of-type {\n",
       "        vertical-align: middle;\n",
       "    }\n",
       "\n",
       "    .dataframe tbody tr th {\n",
       "        vertical-align: top;\n",
       "    }\n",
       "\n",
       "    .dataframe thead th {\n",
       "        text-align: right;\n",
       "    }\n",
       "</style>\n",
       "<table border=\"1\" class=\"dataframe\">\n",
       "  <thead>\n",
       "    <tr style=\"text-align: right;\">\n",
       "      <th></th>\n",
       "      <th>brand</th>\n",
       "      <th>price_ars</th>\n",
       "      <th>brand_avg</th>\n",
       "    </tr>\n",
       "  </thead>\n",
       "  <tbody>\n",
       "    <tr>\n",
       "      <th>0</th>\n",
       "      <td>Alfa Romeo</td>\n",
       "      <td>3500000</td>\n",
       "      <td>3.166129e+06</td>\n",
       "    </tr>\n",
       "    <tr>\n",
       "      <th>1</th>\n",
       "      <td>Alfa Romeo</td>\n",
       "      <td>2940000</td>\n",
       "      <td>3.166129e+06</td>\n",
       "    </tr>\n",
       "    <tr>\n",
       "      <th>2</th>\n",
       "      <td>Alfa Romeo</td>\n",
       "      <td>2880000</td>\n",
       "      <td>3.166129e+06</td>\n",
       "    </tr>\n",
       "    <tr>\n",
       "      <th>3</th>\n",
       "      <td>Alfa Romeo</td>\n",
       "      <td>2660000</td>\n",
       "      <td>3.166129e+06</td>\n",
       "    </tr>\n",
       "    <tr>\n",
       "      <th>4</th>\n",
       "      <td>Alfa Romeo</td>\n",
       "      <td>849000</td>\n",
       "      <td>3.166129e+06</td>\n",
       "    </tr>\n",
       "    <tr>\n",
       "      <th>...</th>\n",
       "      <td>...</td>\n",
       "      <td>...</td>\n",
       "      <td>...</td>\n",
       "    </tr>\n",
       "    <tr>\n",
       "      <th>34002</th>\n",
       "      <td>Volvo</td>\n",
       "      <td>800000</td>\n",
       "      <td>3.519973e+06</td>\n",
       "    </tr>\n",
       "    <tr>\n",
       "      <th>34003</th>\n",
       "      <td>Volvo</td>\n",
       "      <td>900000</td>\n",
       "      <td>3.519973e+06</td>\n",
       "    </tr>\n",
       "    <tr>\n",
       "      <th>34004</th>\n",
       "      <td>Volvo</td>\n",
       "      <td>2800000</td>\n",
       "      <td>3.519973e+06</td>\n",
       "    </tr>\n",
       "    <tr>\n",
       "      <th>34005</th>\n",
       "      <td>Volvo</td>\n",
       "      <td>2400000</td>\n",
       "      <td>3.519973e+06</td>\n",
       "    </tr>\n",
       "    <tr>\n",
       "      <th>34006</th>\n",
       "      <td>Volvo</td>\n",
       "      <td>2400000</td>\n",
       "      <td>3.519973e+06</td>\n",
       "    </tr>\n",
       "  </tbody>\n",
       "</table>\n",
       "<p>34007 rows × 3 columns</p>\n",
       "</div>"
      ],
      "text/plain": [
       "            brand  price_ars     brand_avg\n",
       "0      Alfa Romeo    3500000  3.166129e+06\n",
       "1      Alfa Romeo    2940000  3.166129e+06\n",
       "2      Alfa Romeo    2880000  3.166129e+06\n",
       "3      Alfa Romeo    2660000  3.166129e+06\n",
       "4      Alfa Romeo     849000  3.166129e+06\n",
       "...           ...        ...           ...\n",
       "34002       Volvo     800000  3.519973e+06\n",
       "34003       Volvo     900000  3.519973e+06\n",
       "34004       Volvo    2800000  3.519973e+06\n",
       "34005       Volvo    2400000  3.519973e+06\n",
       "34006       Volvo    2400000  3.519973e+06\n",
       "\n",
       "[34007 rows x 3 columns]"
      ]
     },
     "execution_count": 172,
     "metadata": {},
     "output_type": "execute_result"
    }
   ],
   "source": [
    "cars_data[['brand', 'price_ars', 'brand_avg']]"
   ]
  },
  {
   "cell_type": "markdown",
   "metadata": {},
   "source": [
    "#### One-Hot encoding doesnt poerform well if we have many categories, in this case we got over 32, we can try using only the most common"
   ]
  },
  {
   "cell_type": "code",
   "execution_count": 173,
   "metadata": {},
   "outputs": [
    {
     "data": {
      "text/plain": [
       "32"
      ]
     },
     "execution_count": 173,
     "metadata": {},
     "output_type": "execute_result"
    }
   ],
   "source": [
    "cars_data.groupby('brand').size().count()"
   ]
  },
  {
   "cell_type": "code",
   "execution_count": 174,
   "metadata": {},
   "outputs": [],
   "source": [
    "most_common_cars = ((cars_data.groupby('brand').size()>600)[(cars_data.groupby('brand').size()>600)].index)"
   ]
  },
  {
   "cell_type": "code",
   "execution_count": 175,
   "metadata": {},
   "outputs": [],
   "source": [
    "cars_data_common = cars_data[cars_data['brand'].isin(list(most_common_cars))]"
   ]
  },
  {
   "cell_type": "code",
   "execution_count": null,
   "metadata": {},
   "outputs": [],
   "source": []
  },
  {
   "cell_type": "markdown",
   "metadata": {},
   "source": [
    "### now we repeat the process"
   ]
  },
  {
   "cell_type": "code",
   "execution_count": 176,
   "metadata": {},
   "outputs": [],
   "source": [
    "X = cars_data_common[features].dropna()"
   ]
  },
  {
   "cell_type": "code",
   "execution_count": 177,
   "metadata": {},
   "outputs": [],
   "source": [
    "y = X.pop('price_ars')"
   ]
  },
  {
   "cell_type": "code",
   "execution_count": 178,
   "metadata": {},
   "outputs": [
    {
     "data": {
      "text/html": [
       "<div>\n",
       "<style scoped>\n",
       "    .dataframe tbody tr th:only-of-type {\n",
       "        vertical-align: middle;\n",
       "    }\n",
       "\n",
       "    .dataframe tbody tr th {\n",
       "        vertical-align: top;\n",
       "    }\n",
       "\n",
       "    .dataframe thead th {\n",
       "        text-align: right;\n",
       "    }\n",
       "</style>\n",
       "<table border=\"1\" class=\"dataframe\">\n",
       "  <thead>\n",
       "    <tr style=\"text-align: right;\">\n",
       "      <th></th>\n",
       "      <th>year</th>\n",
       "      <th>km</th>\n",
       "    </tr>\n",
       "  </thead>\n",
       "  <tbody>\n",
       "    <tr>\n",
       "      <th>count</th>\n",
       "      <td>16813.000000</td>\n",
       "      <td>16813.000000</td>\n",
       "    </tr>\n",
       "    <tr>\n",
       "      <th>mean</th>\n",
       "      <td>2015.181110</td>\n",
       "      <td>84215.988818</td>\n",
       "    </tr>\n",
       "    <tr>\n",
       "      <th>std</th>\n",
       "      <td>4.618142</td>\n",
       "      <td>60377.625875</td>\n",
       "    </tr>\n",
       "    <tr>\n",
       "      <th>min</th>\n",
       "      <td>1991.000000</td>\n",
       "      <td>1.000000</td>\n",
       "    </tr>\n",
       "    <tr>\n",
       "      <th>25%</th>\n",
       "      <td>2013.000000</td>\n",
       "      <td>42000.000000</td>\n",
       "    </tr>\n",
       "    <tr>\n",
       "      <th>50%</th>\n",
       "      <td>2016.000000</td>\n",
       "      <td>75500.000000</td>\n",
       "    </tr>\n",
       "    <tr>\n",
       "      <th>75%</th>\n",
       "      <td>2018.000000</td>\n",
       "      <td>115000.000000</td>\n",
       "    </tr>\n",
       "    <tr>\n",
       "      <th>max</th>\n",
       "      <td>2023.000000</td>\n",
       "      <td>604000.000000</td>\n",
       "    </tr>\n",
       "  </tbody>\n",
       "</table>\n",
       "</div>"
      ],
      "text/plain": [
       "               year             km\n",
       "count  16813.000000   16813.000000\n",
       "mean    2015.181110   84215.988818\n",
       "std        4.618142   60377.625875\n",
       "min     1991.000000       1.000000\n",
       "25%     2013.000000   42000.000000\n",
       "50%     2016.000000   75500.000000\n",
       "75%     2018.000000  115000.000000\n",
       "max     2023.000000  604000.000000"
      ]
     },
     "execution_count": 178,
     "metadata": {},
     "output_type": "execute_result"
    }
   ],
   "source": [
    "X.describe() #not all the features are numeric (later we will check if a encoding is usefull)"
   ]
  },
  {
   "cell_type": "code",
   "execution_count": 179,
   "metadata": {
    "scrolled": true
   },
   "outputs": [],
   "source": [
    "X_train, X_valid, y_train, y_valid = train_test_split(X, y, random_state = 0)\n"
   ]
  },
  {
   "cell_type": "code",
   "execution_count": 180,
   "metadata": {},
   "outputs": [
    {
     "name": "stdout",
     "output_type": "stream",
     "text": [
      "Categorical variables:\n",
      "['brand', 'model', 'colour', 'fuel', 'engine', 'transmision', 'type', 'city']\n"
     ]
    }
   ],
   "source": [
    "# Get list of categorical variables\n",
    "s = (X_train.dtypes == 'object')\n",
    "object_cols = list(s[s].index)\n",
    "\n",
    "print(\"Categorical variables:\")\n",
    "print(object_cols)"
   ]
  },
  {
   "cell_type": "code",
   "execution_count": 181,
   "metadata": {
    "scrolled": false
   },
   "outputs": [
    {
     "data": {
      "text/plain": [
       "brand              0\n",
       "model              0\n",
       "colour         14710\n",
       "fuel               0\n",
       "engine          2228\n",
       "transmision     1966\n",
       "type            2155\n",
       "city               0\n",
       "dtype: int64"
      ]
     },
     "execution_count": 181,
     "metadata": {},
     "output_type": "execute_result"
    }
   ],
   "source": [
    "cars_data[object_cols]\n",
    "missing_values_count = cars_data[object_cols].isnull().sum()\n",
    "missing_values_count #we have many empty values, we need to clean before encoding"
   ]
  },
  {
   "cell_type": "markdown",
   "metadata": {},
   "source": []
  },
  {
   "cell_type": "markdown",
   "metadata": {},
   "source": [
    "###### As there is no ordinal values in this data, we proceed with one hot encoding"
   ]
  },
  {
   "cell_type": "code",
   "execution_count": 182,
   "metadata": {},
   "outputs": [
    {
     "data": {
      "text/plain": [
       "RandomForestRegressor(random_state=1)"
      ]
     },
     "execution_count": 182,
     "metadata": {},
     "output_type": "execute_result"
    }
   ],
   "source": [
    "OH_X_train, OH_X_valid = encoder(X_train, X_valid)\n",
    "model = RandomForestRegressor(random_state=1)\n",
    "model.fit(OH_X_train, y_train)"
   ]
  },
  {
   "cell_type": "code",
   "execution_count": 183,
   "metadata": {
    "scrolled": true
   },
   "outputs": [
    {
     "name": "stdout",
     "output_type": "stream",
     "text": [
      "Making predictions for the following 5 cars:\n",
      "    brand         model colour   fuel engine  year transmision      km  \\\n",
      "220  Audi            TT  Negro  Nafta    1.8  2011      Manual  125000   \n",
      "221  Audi            A1   Gris  Nafta    1.4  2015      Manual  117000   \n",
      "222  Audi  A5 Sportback   Gris  Nafta    2.0  2011  Automatica  129000   \n",
      "223  Audi  A1 Sportback   Rojo  Nafta    1.0  2021  Automatica    1000   \n",
      "225  Audi            Q3   Gris  Nafta    1.4  2018  Automatica   82229   \n",
      "\n",
      "          type                  city  \n",
      "220      Coupe      Capital Federal   \n",
      "221  Hatchback   Bs.As. G.B.A. Oeste  \n",
      "222  Hatchback           Avellaneda   \n",
      "223  Hatchback      Capital Federal   \n",
      "225        SUV   Bs.As. G.B.A. Oeste  \n",
      "The predictions are\n",
      "[ 6864758.          2311768.         12136900.          4770190.\n",
      "  2001804.06833333]\n",
      "427757.00480239297\n"
     ]
    }
   ],
   "source": [
    "print(\"Making predictions for the following 5 cars:\")\n",
    "print(X.head())\n",
    "print(\"The predictions are\")\n",
    "print(model.predict(OH_X_valid.head()))\n",
    "\n",
    "val_predictions = model.predict(OH_X_valid)\n",
    "print(mean_absolute_error(y_valid, val_predictions))"
   ]
  },
  {
   "cell_type": "markdown",
   "metadata": {},
   "source": [
    "This model is better"
   ]
  },
  {
   "cell_type": "markdown",
   "metadata": {},
   "source": [
    "##### Finally we will try to see if partitioning the price data gets a better model"
   ]
  },
  {
   "cell_type": "code",
   "execution_count": 227,
   "metadata": {},
   "outputs": [
    {
     "name": "stdout",
     "output_type": "stream",
     "text": [
      "Categorical variables:\n",
      "['brand', 'model', 'colour', 'fuel', 'engine', 'transmision', 'type', 'city']\n",
      "Making predictions for the following 5 cars:\n",
      "    brand         model colour   fuel engine  year transmision      km  \\\n",
      "220  Audi            TT  Negro  Nafta    1.8  2011      Manual  125000   \n",
      "221  Audi            A1   Gris  Nafta    1.4  2015      Manual  117000   \n",
      "222  Audi  A5 Sportback   Gris  Nafta    2.0  2011  Automatica  129000   \n",
      "223  Audi  A1 Sportback   Rojo  Nafta    1.0  2021  Automatica    1000   \n",
      "225  Audi            Q3   Gris  Nafta    1.4  2018  Automatica   82229   \n",
      "\n",
      "          type                  city  \n",
      "220      Coupe      Capital Federal   \n",
      "221  Hatchback   Bs.As. G.B.A. Oeste  \n",
      "222  Hatchback           Avellaneda   \n",
      "223  Hatchback      Capital Federal   \n",
      "225        SUV   Bs.As. G.B.A. Oeste  \n",
      "The predictions are\n",
      "[10288196.     2138233.     1666919.975  2949424.     7604325.   ]\n",
      "417507.1016829879\n"
     ]
    }
   ],
   "source": [
    "X = cars_data_common[features].dropna()\n",
    "\n",
    "X = X[(X['price_ars']>1000000)]# we dont lose much data and get rid of some noise\n",
    "\n",
    "y = X.pop('price_ars')\n",
    "\n",
    "X_train, X_valid, y_train, y_valid = train_test_split(X, y, random_state = 0)\n",
    "\n",
    "# Get list of categorical variables\n",
    "s = (X_train.dtypes == 'object')\n",
    "object_cols = list(s[s].index)\n",
    "\n",
    "print(\"Categorical variables:\")\n",
    "print(object_cols)\n",
    "\n",
    "OH_X_train, OH_X_valid = encoder(X_train, X_valid)\n",
    "model = RandomForestRegressor(random_state=1)\n",
    "model.fit(OH_X_train, y_train)\n",
    "\n",
    "print(\"Making predictions for the following 5 cars:\")\n",
    "print(X.head())\n",
    "print(\"The predictions are\")\n",
    "print(model.predict(OH_X_valid.head()))\n",
    "\n",
    "val_predictions = model.predict(OH_X_valid)\n",
    "print(mean_absolute_error(y_valid, val_predictions))"
   ]
  },
  {
   "cell_type": "code",
   "execution_count": 228,
   "metadata": {},
   "outputs": [
    {
     "data": {
      "text/plain": [
       "0.8962272686835152"
      ]
     },
     "execution_count": 228,
     "metadata": {},
     "output_type": "execute_result"
    }
   ],
   "source": [
    "1-mean_absolute_error(y_valid, val_predictions)/y.mean() #---> 90% accuaracy"
   ]
  },
  {
   "cell_type": "code",
   "execution_count": 155,
   "metadata": {},
   "outputs": [
    {
     "name": "stderr",
     "output_type": "stream",
     "text": [
      "D:\\Users\\juan_\\anaconda3\\lib\\site-packages\\xgboost\\sklearn.py:793: UserWarning: `early_stopping_rounds` in `fit` method is deprecated for better compatibility with scikit-learn, use `early_stopping_rounds` in constructor or`set_params` instead.\n",
      "  warnings.warn(\n"
     ]
    },
    {
     "data": {
      "text/plain": [
       "XGBRegressor(base_score=0.5, booster='gbtree', callbacks=None,\n",
       "             colsample_bylevel=1, colsample_bynode=1, colsample_bytree=1,\n",
       "             early_stopping_rounds=None, enable_categorical=False,\n",
       "             eval_metric=None, gamma=0, gpu_id=-1, grow_policy='depthwise',\n",
       "             importance_type=None, interaction_constraints='',\n",
       "             learning_rate=0.05, max_bin=256, max_cat_to_onehot=4,\n",
       "             max_delta_step=0, max_depth=6, max_leaves=0, min_child_weight=1,\n",
       "             missing=nan, monotone_constraints='()', n_estimators=1000,\n",
       "             n_jobs=4, num_parallel_tree=1, predictor='auto', random_state=0,\n",
       "             reg_alpha=0, reg_lambda=1, ...)"
      ]
     },
     "execution_count": 155,
     "metadata": {},
     "output_type": "execute_result"
    }
   ],
   "source": [
    "model = XGBRegressor(n_estimators=1000, learning_rate=0.05, n_jobs=4)\n",
    "model.fit(OH_X_train, y_train,\n",
    "         early_stopping_rounds=5, \n",
    "             eval_set=[(OH_X_valid, y_valid)], \n",
    "             verbose=False)\n"
   ]
  },
  {
   "cell_type": "code",
   "execution_count": 156,
   "metadata": {},
   "outputs": [
    {
     "name": "stdout",
     "output_type": "stream",
     "text": [
      "572962.5910320674\n"
     ]
    }
   ],
   "source": [
    "val_predictions = model.predict(OH_X_valid)\n",
    "print(mean_absolute_error(y_valid, val_predictions))"
   ]
  },
  {
   "cell_type": "code",
   "execution_count": null,
   "metadata": {},
   "outputs": [],
   "source": []
  }
 ],
 "metadata": {
  "kernelspec": {
   "display_name": "Python 3",
   "language": "python",
   "name": "python3"
  },
  "language_info": {
   "codemirror_mode": {
    "name": "ipython",
    "version": 3
   },
   "file_extension": ".py",
   "mimetype": "text/x-python",
   "name": "python",
   "nbconvert_exporter": "python",
   "pygments_lexer": "ipython3",
   "version": "3.8.5"
  },
  "varInspector": {
   "cols": {
    "lenName": 16,
    "lenType": 16,
    "lenVar": 40
   },
   "kernels_config": {
    "python": {
     "delete_cmd_postfix": "",
     "delete_cmd_prefix": "del ",
     "library": "var_list.py",
     "varRefreshCmd": "print(var_dic_list())"
    },
    "r": {
     "delete_cmd_postfix": ") ",
     "delete_cmd_prefix": "rm(",
     "library": "var_list.r",
     "varRefreshCmd": "cat(var_dic_list()) "
    }
   },
   "position": {
    "height": "752.844px",
    "left": "1550px",
    "right": "20px",
    "top": "120px",
    "width": "350px"
   },
   "types_to_exclude": [
    "module",
    "function",
    "builtin_function_or_method",
    "instance",
    "_Feature"
   ],
   "window_display": false
  }
 },
 "nbformat": 4,
 "nbformat_minor": 4
}
