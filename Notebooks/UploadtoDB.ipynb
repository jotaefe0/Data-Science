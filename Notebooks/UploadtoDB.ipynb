{
 "cells": [
  {
   "cell_type": "markdown",
   "metadata": {},
   "source": [
    "### Uploading DataFrame to SQL DB in AWS\n",
    "We already scraped the Car Data, now we are going to clean it and make some adjustments to upload it to a Cloud server SQL\n",
    "\n",
    "Steps:\n",
    "* import DF from scrapper\n",
    "* clean data\n",
    "* Verify columns names\n",
    "* Upload to DB"
   ]
  },
  {
   "cell_type": "code",
   "execution_count": 6,
   "metadata": {},
   "outputs": [],
   "source": [
    "import pandas as pd\n",
    "import math\n",
    "import psycopg2 as ps\n",
    "import numpy as np\n",
    "from dotenv import load_dotenv\n",
    "import os"
   ]
  },
  {
   "cell_type": "code",
   "execution_count": 188,
   "metadata": {},
   "outputs": [],
   "source": [
    "df = pd.read_csv('autos_mercadolibre.csv')\n",
    "df2 = pd.read_csv('last_scrap.csv')"
   ]
  },
  {
   "cell_type": "code",
   "execution_count": 189,
   "metadata": {},
   "outputs": [],
   "source": [
    "df = pd.concat([df2, df2], ignore_index=True)"
   ]
  },
  {
   "cell_type": "code",
   "execution_count": 190,
   "metadata": {},
   "outputs": [
    {
     "data": {
      "text/html": [
       "<div>\n",
       "<style scoped>\n",
       "    .dataframe tbody tr th:only-of-type {\n",
       "        vertical-align: middle;\n",
       "    }\n",
       "\n",
       "    .dataframe tbody tr th {\n",
       "        vertical-align: top;\n",
       "    }\n",
       "\n",
       "    .dataframe thead th {\n",
       "        text-align: right;\n",
       "    }\n",
       "</style>\n",
       "<table border=\"1\" class=\"dataframe\">\n",
       "  <thead>\n",
       "    <tr style=\"text-align: right;\">\n",
       "      <th></th>\n",
       "      <th>Unnamed: 0</th>\n",
       "      <th>Marca</th>\n",
       "      <th>Modelo</th>\n",
       "      <th>AÃ±o</th>\n",
       "      <th>Color</th>\n",
       "      <th>Tipo de combustible</th>\n",
       "      <th>Puertas</th>\n",
       "      <th>TransmisiÃ³n</th>\n",
       "      <th>Motor</th>\n",
       "      <th>Tipo de carr</th>\n",
       "      <th>KilÃ³metros</th>\n",
       "      <th>Location</th>\n",
       "      <th>Price</th>\n",
       "      <th>Link</th>\n",
       "      <th>Año</th>\n",
       "      <th>Transmisión</th>\n",
       "      <th>Tipo de carrocería</th>\n",
       "      <th>Kilómetros</th>\n",
       "    </tr>\n",
       "  </thead>\n",
       "  <tbody>\n",
       "    <tr>\n",
       "      <th>0</th>\n",
       "      <td>0</td>\n",
       "      <td>Alfa Romeo</td>\n",
       "      <td>Mito</td>\n",
       "      <td>2015.0</td>\n",
       "      <td>Blanco</td>\n",
       "      <td>Nafta</td>\n",
       "      <td>3</td>\n",
       "      <td>AutomÃ¡tica</td>\n",
       "      <td>1.4</td>\n",
       "      <td>Hatchback</td>\n",
       "      <td>47800 km</td>\n",
       "      <td>Ramos MejÃ­a - La Matanza - Bs.As. G.B.A. Oeste</td>\n",
       "      <td>3800000</td>\n",
       "      <td>https://auto.mercadolibre.com.ar/MLA-113834276...</td>\n",
       "      <td>NaN</td>\n",
       "      <td>NaN</td>\n",
       "      <td>NaN</td>\n",
       "      <td>NaN</td>\n",
       "    </tr>\n",
       "    <tr>\n",
       "      <th>1</th>\n",
       "      <td>1</td>\n",
       "      <td>Audi</td>\n",
       "      <td>A5 Sportback</td>\n",
       "      <td>NaN</td>\n",
       "      <td>Gris</td>\n",
       "      <td>Nafta</td>\n",
       "      <td>5</td>\n",
       "      <td>NaN</td>\n",
       "      <td>3.2</td>\n",
       "      <td>NaN</td>\n",
       "      <td>NaN</td>\n",
       "      <td>Villa Martelli - Vicente López - Bs.As. G.B.A....</td>\n",
       "      <td>23500</td>\n",
       "      <td>https://auto.mercadolibre.com.ar/MLA-113760527...</td>\n",
       "      <td>2011.0</td>\n",
       "      <td>Automática</td>\n",
       "      <td>Hatchback</td>\n",
       "      <td>110000 km</td>\n",
       "    </tr>\n",
       "    <tr>\n",
       "      <th>2</th>\n",
       "      <td>2</td>\n",
       "      <td>Audi</td>\n",
       "      <td>A6</td>\n",
       "      <td>2013.0</td>\n",
       "      <td>Gris</td>\n",
       "      <td>Nafta</td>\n",
       "      <td>4</td>\n",
       "      <td>AutomÃ¡tica</td>\n",
       "      <td>2.8</td>\n",
       "      <td>SedÃ¡n</td>\n",
       "      <td>210000 km</td>\n",
       "      <td>Tigre - Bs.As. G.B.A. Norte</td>\n",
       "      <td>27000</td>\n",
       "      <td>https://auto.mercadolibre.com.ar/MLA-113750858...</td>\n",
       "      <td>NaN</td>\n",
       "      <td>NaN</td>\n",
       "      <td>NaN</td>\n",
       "      <td>NaN</td>\n",
       "    </tr>\n",
       "    <tr>\n",
       "      <th>3</th>\n",
       "      <td>3</td>\n",
       "      <td>Audi</td>\n",
       "      <td>A4</td>\n",
       "      <td>2007.0</td>\n",
       "      <td>NaN</td>\n",
       "      <td>DiÃ©sel</td>\n",
       "      <td>4</td>\n",
       "      <td>Manual</td>\n",
       "      <td>2.0</td>\n",
       "      <td>SedÃ¡n</td>\n",
       "      <td>203000 km</td>\n",
       "      <td>TapalquÃ© - Buenos Aires Interior</td>\n",
       "      <td>1700000</td>\n",
       "      <td>https://auto.mercadolibre.com.ar/MLA-113044459...</td>\n",
       "      <td>NaN</td>\n",
       "      <td>NaN</td>\n",
       "      <td>NaN</td>\n",
       "      <td>NaN</td>\n",
       "    </tr>\n",
       "    <tr>\n",
       "      <th>4</th>\n",
       "      <td>4</td>\n",
       "      <td>Audi</td>\n",
       "      <td>A4</td>\n",
       "      <td>2012.0</td>\n",
       "      <td>Blanco</td>\n",
       "      <td>Nafta</td>\n",
       "      <td>4</td>\n",
       "      <td>Manual</td>\n",
       "      <td>1.8</td>\n",
       "      <td>SedÃ¡n</td>\n",
       "      <td>110000 km</td>\n",
       "      <td>Lomas de Zamora - Lomas de Zamora - Bs.As. G.B...</td>\n",
       "      <td>16000</td>\n",
       "      <td>https://auto.mercadolibre.com.ar/MLA-113745157...</td>\n",
       "      <td>NaN</td>\n",
       "      <td>NaN</td>\n",
       "      <td>NaN</td>\n",
       "      <td>NaN</td>\n",
       "    </tr>\n",
       "    <tr>\n",
       "      <th>...</th>\n",
       "      <td>...</td>\n",
       "      <td>...</td>\n",
       "      <td>...</td>\n",
       "      <td>...</td>\n",
       "      <td>...</td>\n",
       "      <td>...</td>\n",
       "      <td>...</td>\n",
       "      <td>...</td>\n",
       "      <td>...</td>\n",
       "      <td>...</td>\n",
       "      <td>...</td>\n",
       "      <td>...</td>\n",
       "      <td>...</td>\n",
       "      <td>...</td>\n",
       "      <td>...</td>\n",
       "      <td>...</td>\n",
       "      <td>...</td>\n",
       "      <td>...</td>\n",
       "    </tr>\n",
       "    <tr>\n",
       "      <th>38643</th>\n",
       "      <td>19319</td>\n",
       "      <td>Volvo</td>\n",
       "      <td>XC40</td>\n",
       "      <td>2019.0</td>\n",
       "      <td>Negro</td>\n",
       "      <td>Nafta</td>\n",
       "      <td>4</td>\n",
       "      <td>AutomÃ¡tica</td>\n",
       "      <td>NaN</td>\n",
       "      <td>SUV</td>\n",
       "      <td>5000 km</td>\n",
       "      <td>Belgrano - Capital Federal - Capital Federal</td>\n",
       "      <td>99000</td>\n",
       "      <td>https://auto.mercadolibre.com.ar/MLA-113029995...</td>\n",
       "      <td>NaN</td>\n",
       "      <td>NaN</td>\n",
       "      <td>NaN</td>\n",
       "      <td>NaN</td>\n",
       "    </tr>\n",
       "    <tr>\n",
       "      <th>38644</th>\n",
       "      <td>19320</td>\n",
       "      <td>Volvo</td>\n",
       "      <td>S 122</td>\n",
       "      <td>1963.0</td>\n",
       "      <td>NaN</td>\n",
       "      <td>Nafta</td>\n",
       "      <td>2</td>\n",
       "      <td>NaN</td>\n",
       "      <td>NaN</td>\n",
       "      <td>NaN</td>\n",
       "      <td>111111 km</td>\n",
       "      <td>La Matanza - Bs.As. G.B.A. Oeste</td>\n",
       "      <td>5000</td>\n",
       "      <td>https://auto.mercadolibre.com.ar/MLA-113208746...</td>\n",
       "      <td>NaN</td>\n",
       "      <td>NaN</td>\n",
       "      <td>NaN</td>\n",
       "      <td>NaN</td>\n",
       "    </tr>\n",
       "    <tr>\n",
       "      <th>38645</th>\n",
       "      <td>19321</td>\n",
       "      <td>Volvo</td>\n",
       "      <td>XC60</td>\n",
       "      <td>2011.0</td>\n",
       "      <td>Azul</td>\n",
       "      <td>Nafta</td>\n",
       "      <td>5</td>\n",
       "      <td>AutomÃ¡tica</td>\n",
       "      <td>2.0</td>\n",
       "      <td>SUV</td>\n",
       "      <td>135000 km</td>\n",
       "      <td>Centro - Rosario - Santa Fe</td>\n",
       "      <td>14000</td>\n",
       "      <td>https://auto.mercadolibre.com.ar/MLA-110875003...</td>\n",
       "      <td>NaN</td>\n",
       "      <td>NaN</td>\n",
       "      <td>NaN</td>\n",
       "      <td>NaN</td>\n",
       "    </tr>\n",
       "    <tr>\n",
       "      <th>38646</th>\n",
       "      <td>19322</td>\n",
       "      <td>Volvo</td>\n",
       "      <td>S40</td>\n",
       "      <td>2011.0</td>\n",
       "      <td>Blanco</td>\n",
       "      <td>Nafta</td>\n",
       "      <td>4</td>\n",
       "      <td>AutomÃ¡tica</td>\n",
       "      <td>NaN</td>\n",
       "      <td>SedÃ¡n</td>\n",
       "      <td>68000 km</td>\n",
       "      <td>Caballito - Capital Federal - Capital Federal</td>\n",
       "      <td>2400000</td>\n",
       "      <td>https://auto.mercadolibre.com.ar/MLA-112101811...</td>\n",
       "      <td>NaN</td>\n",
       "      <td>NaN</td>\n",
       "      <td>NaN</td>\n",
       "      <td>NaN</td>\n",
       "    </tr>\n",
       "    <tr>\n",
       "      <th>38647</th>\n",
       "      <td>19323</td>\n",
       "      <td>Volvo</td>\n",
       "      <td>XC90</td>\n",
       "      <td>2008.0</td>\n",
       "      <td>NaN</td>\n",
       "      <td>DiÃ©sel</td>\n",
       "      <td>5</td>\n",
       "      <td>AutomÃ¡tica</td>\n",
       "      <td>2.4</td>\n",
       "      <td>SUV</td>\n",
       "      <td>150000 km</td>\n",
       "      <td>Pilar - Bs.As. G.B.A. Norte</td>\n",
       "      <td>12000</td>\n",
       "      <td>https://auto.mercadolibre.com.ar/MLA-113097040...</td>\n",
       "      <td>NaN</td>\n",
       "      <td>NaN</td>\n",
       "      <td>NaN</td>\n",
       "      <td>NaN</td>\n",
       "    </tr>\n",
       "  </tbody>\n",
       "</table>\n",
       "<p>38648 rows × 18 columns</p>\n",
       "</div>"
      ],
      "text/plain": [
       "       Unnamed: 0       Marca        Modelo    AÃ±o   Color  \\\n",
       "0               0  Alfa Romeo          Mito  2015.0  Blanco   \n",
       "1               1        Audi  A5 Sportback     NaN    Gris   \n",
       "2               2        Audi            A6  2013.0    Gris   \n",
       "3               3        Audi            A4  2007.0     NaN   \n",
       "4               4        Audi            A4  2012.0  Blanco   \n",
       "...           ...         ...           ...     ...     ...   \n",
       "38643       19319       Volvo          XC40  2019.0   Negro   \n",
       "38644       19320       Volvo         S 122  1963.0     NaN   \n",
       "38645       19321       Volvo          XC60  2011.0    Azul   \n",
       "38646       19322       Volvo           S40  2011.0  Blanco   \n",
       "38647       19323       Volvo          XC90  2008.0     NaN   \n",
       "\n",
       "      Tipo de combustible  Puertas TransmisiÃ³n Motor Tipo de carr  \\\n",
       "0                   Nafta        3  AutomÃ¡tica   1.4    Hatchback   \n",
       "1                   Nafta        5          NaN   3.2          NaN   \n",
       "2                   Nafta        4  AutomÃ¡tica   2.8       SedÃ¡n   \n",
       "3                 DiÃ©sel        4       Manual   2.0       SedÃ¡n   \n",
       "4                   Nafta        4       Manual   1.8       SedÃ¡n   \n",
       "...                   ...      ...          ...   ...          ...   \n",
       "38643               Nafta        4  AutomÃ¡tica   NaN          SUV   \n",
       "38644               Nafta        2          NaN   NaN          NaN   \n",
       "38645               Nafta        5  AutomÃ¡tica   2.0          SUV   \n",
       "38646               Nafta        4  AutomÃ¡tica   NaN       SedÃ¡n   \n",
       "38647             DiÃ©sel        5  AutomÃ¡tica   2.4          SUV   \n",
       "\n",
       "      KilÃ³metros                                           Location    Price  \\\n",
       "0        47800 km    Ramos MejÃ­a - La Matanza - Bs.As. G.B.A. Oeste  3800000   \n",
       "1             NaN  Villa Martelli - Vicente López - Bs.As. G.B.A....    23500   \n",
       "2       210000 km                        Tigre - Bs.As. G.B.A. Norte    27000   \n",
       "3       203000 km                  TapalquÃ© - Buenos Aires Interior  1700000   \n",
       "4       110000 km  Lomas de Zamora - Lomas de Zamora - Bs.As. G.B...    16000   \n",
       "...           ...                                                ...      ...   \n",
       "38643     5000 km       Belgrano - Capital Federal - Capital Federal    99000   \n",
       "38644   111111 km                   La Matanza - Bs.As. G.B.A. Oeste     5000   \n",
       "38645   135000 km                        Centro - Rosario - Santa Fe    14000   \n",
       "38646    68000 km      Caballito - Capital Federal - Capital Federal  2400000   \n",
       "38647   150000 km                        Pilar - Bs.As. G.B.A. Norte    12000   \n",
       "\n",
       "                                                    Link     Año Transmisión  \\\n",
       "0      https://auto.mercadolibre.com.ar/MLA-113834276...     NaN         NaN   \n",
       "1      https://auto.mercadolibre.com.ar/MLA-113760527...  2011.0  Automática   \n",
       "2      https://auto.mercadolibre.com.ar/MLA-113750858...     NaN         NaN   \n",
       "3      https://auto.mercadolibre.com.ar/MLA-113044459...     NaN         NaN   \n",
       "4      https://auto.mercadolibre.com.ar/MLA-113745157...     NaN         NaN   \n",
       "...                                                  ...     ...         ...   \n",
       "38643  https://auto.mercadolibre.com.ar/MLA-113029995...     NaN         NaN   \n",
       "38644  https://auto.mercadolibre.com.ar/MLA-113208746...     NaN         NaN   \n",
       "38645  https://auto.mercadolibre.com.ar/MLA-110875003...     NaN         NaN   \n",
       "38646  https://auto.mercadolibre.com.ar/MLA-112101811...     NaN         NaN   \n",
       "38647  https://auto.mercadolibre.com.ar/MLA-113097040...     NaN         NaN   \n",
       "\n",
       "      Tipo de carrocería Kilómetros  \n",
       "0                    NaN        NaN  \n",
       "1              Hatchback  110000 km  \n",
       "2                    NaN        NaN  \n",
       "3                    NaN        NaN  \n",
       "4                    NaN        NaN  \n",
       "...                  ...        ...  \n",
       "38643                NaN        NaN  \n",
       "38644                NaN        NaN  \n",
       "38645                NaN        NaN  \n",
       "38646                NaN        NaN  \n",
       "38647                NaN        NaN  \n",
       "\n",
       "[38648 rows x 18 columns]"
      ]
     },
     "execution_count": 190,
     "metadata": {},
     "output_type": "execute_result"
    }
   ],
   "source": [
    "df = df.rename(columns={df.columns[9]: 'Tipo de carr'})\n",
    "df"
   ]
  },
  {
   "cell_type": "markdown",
   "metadata": {},
   "source": [
    "We see that there is a problem with the column names which endes up in NaN values were in reallity there are 3 columns that are the same (This is because of character encoding)\n",
    "This is why we rename all columns into english name to prevent compatibility issues"
   ]
  },
  {
   "cell_type": "code",
   "execution_count": 191,
   "metadata": {},
   "outputs": [],
   "source": [
    "new_df = pd.DataFrame()"
   ]
  },
  {
   "cell_type": "code",
   "execution_count": 211,
   "metadata": {},
   "outputs": [],
   "source": [
    "new_df['id'] = df.index\n",
    "new_df['brand'] = df['Marca']\n",
    "new_df['model'] = df['Modelo']\n",
    "new_df['colour'] = df['Color']\n",
    "new_df['fuel'] = df['Tipo de combustible']\n",
    "new_df['doors'] = df['Puertas']\n",
    "new_df['engine'] = df['Motor']\n",
    "new_df['location'] = df['Location']\n",
    "new_df['price'] = df['Price']\n",
    "new_df['year'] = df['Año'].fillna(df['AÃ±o'])\n",
    "new_df['transmision'] = df['Transmisión'].fillna(df['TransmisiÃ³n'])\n",
    "new_df['km'] = df['Kilómetros'].fillna(df['KilÃ³metros'])\n",
    "new_df['type'] = df['Tipo de carrocería'].fillna(df['Tipo de carr'])\n",
    "new_df['url'] = df['Link']"
   ]
  },
  {
   "cell_type": "code",
   "execution_count": 212,
   "metadata": {},
   "outputs": [
    {
     "data": {
      "text/plain": [
       "id             False\n",
       "brand          False\n",
       "model          False\n",
       "colour          True\n",
       "fuel           False\n",
       "doors          False\n",
       "engine          True\n",
       "location       False\n",
       "price          False\n",
       "year           False\n",
       "transmision     True\n",
       "km             False\n",
       "type            True\n",
       "url            False\n",
       "dtype: bool"
      ]
     },
     "execution_count": 212,
     "metadata": {},
     "output_type": "execute_result"
    }
   ],
   "source": [
    "new_df.isnull().any()"
   ]
  },
  {
   "cell_type": "markdown",
   "metadata": {},
   "source": [
    "As we see there are some missing values, but at least every car has the main features"
   ]
  },
  {
   "cell_type": "markdown",
   "metadata": {},
   "source": [
    "We also check for duplicates in the URL"
   ]
  },
  {
   "cell_type": "code",
   "execution_count": 213,
   "metadata": {},
   "outputs": [
    {
     "data": {
      "text/plain": [
       "False"
      ]
     },
     "execution_count": 213,
     "metadata": {},
     "output_type": "execute_result"
    }
   ],
   "source": [
    "new_df.duplicated(subset=\"id\").any()"
   ]
  },
  {
   "cell_type": "code",
   "execution_count": 214,
   "metadata": {},
   "outputs": [],
   "source": [
    "new_df = new_df.drop_duplicates(subset=\"id\")"
   ]
  },
  {
   "cell_type": "markdown",
   "metadata": {},
   "source": [
    "### As we see we also have a problem with encoding, 2 values ended up beeing 4\n",
    "#### Sure there is a library to handle encoding, I triend .encode and .decode but didnt work. So I decided to replace it myself"
   ]
  },
  {
   "cell_type": "code",
   "execution_count": 215,
   "metadata": {},
   "outputs": [
    {
     "data": {
      "text/plain": [
       "array(['AutomÃ¡tica', 'Automática', 'Manual', nan,\n",
       "       'Automática secuencial', 'AutomÃ¡tica secuencial',\n",
       "       'SemiautomÃ¡tica'], dtype=object)"
      ]
     },
     "execution_count": 215,
     "metadata": {},
     "output_type": "execute_result"
    }
   ],
   "source": [
    "new_df[\"transmision\"].unique()"
   ]
  },
  {
   "cell_type": "code",
   "execution_count": 216,
   "metadata": {},
   "outputs": [],
   "source": [
    "new_df[\"transmision\"] = new_df[\"transmision\"].str.replace(\"Ã¡\", \"á\",regex=False)\n",
    "new_df[\"fuel\"] = new_df[\"fuel\"].str.replace(\"Ã©\", \"é\",regex=False)\n",
    "new_df[\"fuel\"] = new_df[\"fuel\"].str.replace(\"\\\\\", \"í\",regex=False)\n"
   ]
  },
  {
   "cell_type": "markdown",
   "metadata": {},
   "source": [
    " Also I found this, to normalize and get rid of accents"
   ]
  },
  {
   "cell_type": "code",
   "execution_count": 217,
   "metadata": {},
   "outputs": [],
   "source": [
    "# From https://stackoverflow.com/a/518232\n",
    "import unicodedata\n",
    "def strip_accents(s):\n",
    "   return ''.join(c for c in unicodedata.normalize('NFD', s)\n",
    "                  if unicodedata.category(c) != 'Mn')"
   ]
  },
  {
   "cell_type": "code",
   "execution_count": 218,
   "metadata": {},
   "outputs": [],
   "source": [
    "def series_stripper(serie):\n",
    "    return serie.apply(lambda x:strip_accents(x))"
   ]
  },
  {
   "cell_type": "code",
   "execution_count": 219,
   "metadata": {},
   "outputs": [],
   "source": [
    "new_df['fuel'] = series_stripper(new_df['fuel'])\n",
    "new_df['location'] = series_stripper(new_df['location'])\n",
    "new_df['transmision'] = series_stripper(new_df['transmision'].fillna(''))\n",
    "new_df['colour'] = series_stripper(new_df['colour'].fillna('')).str.replace(\"A³\",\"o\",regex=False)\n",
    "new_df['type'] = series_stripper(new_df['type'].fillna(''))\n",
    "new_df[\"brand\"] = new_df[\"brand\"].str.replace(\"Ã«\",\"e\",regex=False).str.replace(\"ë\",\"e\",regex=False).str.replace(\"ÃƒÂ«\",\"e\",regex=False)\n",
    "new_df[\"fuel\"] = new_df[\"fuel\"].str.replace(\"A\\xad\",\"i\",regex=False)\n",
    "new_df[\"km\"] = new_df[\"km\"].str.replace(\" km\",\"\",regex=False).astype(np.int64)\n",
    "new_df[\"type\"] = new_df[\"type\"].str.replace(\"A¡\",\"a\",regex=False).str.replace(\"A³\",\"o\",regex=False).str.replace(\"A©\",\"e\",regex=False)\n",
    "new_df[\"location\"] = new_df[\"location\"].str.replace(\"A¡\",\"a\",regex=False).str.replace(\"A³\",\"o\",regex=False).str.replace(\"A©\",\"e\",regex=False).str.replace(\"A\\xad\",\"i\",regex=False).str.replace(\"A±\",\"n\",regex=False).str.replace(\"Aº\",\"u\",regex=False).str.replace(\"A¼\",\"u\",regex=False)\n",
    "new_df[\"year\"] = new_df[\"year\"].astype(np.int64)\n",
    "new_df[new_df[\"km\"]>1000000]=1000000 #This prevents SQL to get int out of range\n",
    "#Index(['brand', 'model', 'colour', 'fuel', 'doors', 'engine', 'location',\n",
    " #      'price', 'year', 'transmision', 'km', 'type', 'url'],\n",
    "  #    dtype='object')"
   ]
  },
  {
   "cell_type": "code",
   "execution_count": 220,
   "metadata": {},
   "outputs": [
    {
     "data": {
      "text/plain": [
       "array(['Alfa Romeo', 'Audi', 'BMW', 'Chery', 1000000, 'Chevrolet',\n",
       "       'Peugeot', 'Ford', 'Chevrolet Classic', 'Chrysler', 'Jeep',\n",
       "       'CRYSLER TONW & COUNTRY', 'Chrysler stratus lx', 'Mercedes-Benz',\n",
       "       'Citroen', 'Citroen c4 feel pack', 'CitroÂ´n', 'Citroen C4 CACTUS',\n",
       "       'Renault', 'Dodge', 'RAM', 'Volkswagen', 'Dogde', 'DS', 'Toyota',\n",
       "       'Fiat', 'Honda', 'Honda legend', 'Hyundai', 'Hyunday', 'Isuzu',\n",
       "       'JMC', 'izuzu', 'Jeep ika continental', 'IKA', 'Ika',\n",
       "       'Ika Renault', 'Suzuki', 'Escucho oferta Jeep', 'Aro', 'Kia',\n",
       "       'KIA SOULL', 'Land Rover', 'Range Rover', 'Rover', 'Mazda',\n",
       "       'mercedes', 'MERCEDEZ BENZ', 'Mercedes Benz', 'Mercedez Benz',\n",
       "       'Sprinter', 'Mercedes Benz C250 B', 'Mercedes Benz 1318',\n",
       "       'Shineray', 'Mini', 'Mini Cooper', 'Iveco', 'Mini cooper JCW',\n",
       "       'Mitsubishi', 'Nissan', 'NISSAN NX 2000', 'Nissan datsun',\n",
       "       'Peugeot honda nissan', 'Porsche', 'Smart', 'Subaru',\n",
       "       'Suzuki Nakai', 'SUZUKY FUN', 'Toyota cross', 'Toyota entrega ya',\n",
       "       'Volvo'], dtype=object)"
      ]
     },
     "execution_count": 220,
     "metadata": {},
     "output_type": "execute_result"
    }
   ],
   "source": [
    "unique = []\n",
    "unique = new_df.apply(lambda x : x.unique())\n",
    "unique[\"brand\"]"
   ]
  },
  {
   "cell_type": "markdown",
   "metadata": {},
   "source": [
    "### Now we got a much cleaner DataFrame"
   ]
  },
  {
   "cell_type": "code",
   "execution_count": 221,
   "metadata": {},
   "outputs": [
    {
     "data": {
      "text/plain": [
       "Index(['id', 'brand', 'model', 'colour', 'fuel', 'doors', 'engine', 'location',\n",
       "       'price', 'year', 'transmision', 'km', 'type', 'url'],\n",
       "      dtype='object')"
      ]
     },
     "execution_count": 221,
     "metadata": {},
     "output_type": "execute_result"
    }
   ],
   "source": [
    "new_df.columns"
   ]
  },
  {
   "cell_type": "markdown",
   "metadata": {},
   "source": [
    "##### We check the types of our DF and translate to SQL types"
   ]
  },
  {
   "cell_type": "code",
   "execution_count": 222,
   "metadata": {},
   "outputs": [
    {
     "data": {
      "text/plain": [
       "id              int64\n",
       "brand          object\n",
       "model          object\n",
       "colour         object\n",
       "fuel           object\n",
       "doors           int64\n",
       "engine         object\n",
       "location       object\n",
       "price           int64\n",
       "year            int64\n",
       "transmision    object\n",
       "km              int64\n",
       "type           object\n",
       "url            object\n",
       "dtype: object"
      ]
     },
     "execution_count": 222,
     "metadata": {},
     "output_type": "execute_result"
    }
   ],
   "source": [
    "new_df.dtypes"
   ]
  },
  {
   "cell_type": "code",
   "execution_count": 223,
   "metadata": {},
   "outputs": [],
   "source": [
    "replacements = {\n",
    "    'object':'varchar',\n",
    "    'int64':'int',\n",
    "    'float64':'float'\n",
    "}"
   ]
  },
  {
   "cell_type": "code",
   "execution_count": 224,
   "metadata": {},
   "outputs": [
    {
     "data": {
      "text/plain": [
       "'id int PRIMARY KEY, brand varchar, model varchar, colour varchar, fuel varchar, doors int, engine varchar, location varchar, price int, year int, transmision varchar, km int, type varchar, url varchar'"
      ]
     },
     "execution_count": 224,
     "metadata": {},
     "output_type": "execute_result"
    }
   ],
   "source": [
    "col_str = \", \".join(\"{} {}\".format(n, d) for (n, d) in zip(new_df.columns[1:], new_df.dtypes[1:].replace(replacements)))\n",
    "\"id int PRIMARY KEY, \" + col_str"
   ]
  },
  {
   "cell_type": "markdown",
   "metadata": {},
   "source": [
    "##### DB connection"
   ]
  },
  {
   "cell_type": "code",
   "execution_count": 27,
   "metadata": {},
   "outputs": [],
   "source": [
    "load_dotenv()\n",
    "host_name = os.environ.get('SQL_HOST_NAME')\n",
    "dbname = \"postgres\"\n",
    "port = \"5432\"\n",
    "username = os.environ.get('SQL_USER_NAME')\n",
    "password =  os.environ.get('SQL_PASSWORD')\n",
    "conn = None"
   ]
  },
  {
   "cell_type": "code",
   "execution_count": 28,
   "metadata": {},
   "outputs": [
    {
     "name": "stdout",
     "output_type": "stream",
     "text": [
      "Connected!\n"
     ]
    }
   ],
   "source": [
    "try:\n",
    "    conn = ps.connect(host=host_name, database=dbname, user=username, password=password, port=port)\n",
    "except ps.OperationalError as e:\n",
    "    raise e\n",
    "else:\n",
    "    print(\"Connected!\")"
   ]
  },
  {
   "cell_type": "code",
   "execution_count": 106,
   "metadata": {},
   "outputs": [],
   "source": [
    "create_table = (f\"\"\"CREATE TABLE IF NOT EXISTS cars ({col_str})\"\"\")"
   ]
  },
  {
   "cell_type": "code",
   "execution_count": 80,
   "metadata": {},
   "outputs": [],
   "source": [
    "conn.autocommit = True\n",
    "curr = conn.cursor()"
   ]
  },
  {
   "cell_type": "code",
   "execution_count": 81,
   "metadata": {},
   "outputs": [],
   "source": [
    "curr.execute(create_table)"
   ]
  },
  {
   "cell_type": "code",
   "execution_count": null,
   "metadata": {},
   "outputs": [],
   "source": []
  },
  {
   "cell_type": "code",
   "execution_count": 225,
   "metadata": {},
   "outputs": [],
   "source": [
    "new_df.to_csv(\"tosqldb.csv\", header=new_df.columns, index=False, encoding='utf-8')\n",
    "cars_data = cars_data.drop(cars_data[cars_data[\"id\"]>40000].index)\n",
    "csv = open(\"tosqldb.csv\", encoding=\"utf-8\")"
   ]
  },
  {
   "cell_type": "markdown",
   "metadata": {},
   "source": [
    "Save and open to insert into DB"
   ]
  },
  {
   "cell_type": "code",
   "execution_count": 84,
   "metadata": {},
   "outputs": [],
   "source": [
    "COPY_QUERY = \"\"\"\n",
    "COPY cars FROM STDIN WITH CSV HEADER DELIMITER AS ','\n",
    "\"\"\"\n",
    "curr.copy_expert(sql=COPY_QUERY, file=csv)"
   ]
  },
  {
   "cell_type": "code",
   "execution_count": null,
   "metadata": {},
   "outputs": [],
   "source": [
    "curr.execute(\"SELECT * FROM cars WHERE year=2019\")\n",
    "curr.fetchone()"
   ]
  },
  {
   "cell_type": "code",
   "execution_count": null,
   "metadata": {},
   "outputs": [],
   "source": [
    "'AutomÃ¡tica'.encode('latin-1').decode('utf-8')"
   ]
  },
  {
   "cell_type": "code",
   "execution_count": null,
   "metadata": {},
   "outputs": [],
   "source": []
  }
 ],
 "metadata": {
  "kernelspec": {
   "display_name": "Python 3",
   "language": "python",
   "name": "python3"
  },
  "language_info": {
   "codemirror_mode": {
    "name": "ipython",
    "version": 3
   },
   "file_extension": ".py",
   "mimetype": "text/x-python",
   "name": "python",
   "nbconvert_exporter": "python",
   "pygments_lexer": "ipython3",
   "version": "3.8.5"
  }
 },
 "nbformat": 4,
 "nbformat_minor": 4
}
